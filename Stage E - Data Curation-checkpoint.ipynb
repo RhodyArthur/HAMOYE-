{
 "cells": [
  {
   "cell_type": "markdown",
   "id": "69d2a44f",
   "metadata": {},
   "source": [
    "### Project:"
   ]
  },
  {
   "cell_type": "markdown",
   "id": "2c781e2d",
   "metadata": {},
   "source": [
    "Amazon is a popular e-commerce platform where books are sold. Unravel what type of books were bought frequently, between 2009 and 2019. To find this, juxtapose between the number of books displayed for sale, and the type of books bought frequently by consumers."
   ]
  },
  {
   "cell_type": "markdown",
   "id": "593e7177",
   "metadata": {},
   "source": [
    "### Solution:"
   ]
  },
  {
   "cell_type": "markdown",
   "id": "ed9c1b8c",
   "metadata": {},
   "source": [
    "Since we do not have the dataset prepared already for this project. We will have to scrape the data from the amazon website using the necessary python libraries.\n",
    "Link to website: https://www.amazon.com/s?k=amazon+shopping+online&rh=n%3A283155&dc&adgrpid=84486094307&gclid=CjwKCAjwwab7BRBAEiwAapqpTDYtTN8aym2q_rlYn1VdmofKw0_bzkd6xjaCl8cMY4syjbPZMKNMjxoCLIYQAvD_BwE&hvadid=393524136919&hvdev=c&hvlocphy=1010294&hvnetw=g&hvqmt=b&hvrand=2170543926145783317&hvtargid=kwd-469356929&hydadcr=22365_10729094&qid=1600780278&rnid=2941120011&tag=hydglogoo-20&ref=sr_nr_n_10"
   ]
  },
  {
   "cell_type": "markdown",
   "id": "0eca05e0",
   "metadata": {},
   "source": [
    "### Importing necessary libraries"
   ]
  },
  {
   "cell_type": "code",
   "execution_count": 29,
   "id": "7167e25e",
   "metadata": {},
   "outputs": [],
   "source": [
    "#for webscraping\n",
    "import requests\n",
    "from bs4 import BeautifulSoup\n",
    "import pandas as pd\n",
    "from selenium import webdriver\n",
    "import csv\n",
    "\n",
    "#for EDA\n",
    "import pandas as pd\n",
    "import numpy as np\n",
    "import matplotlib.pyplot as plt\n",
    "import seaborn as sns\n",
    "import csv\n",
    "%matplotlib inline"
   ]
  },
  {
   "cell_type": "code",
   "execution_count": 2,
   "id": "49e7d130",
   "metadata": {},
   "outputs": [],
   "source": [
    "years = list(range(2009, 2020))"
   ]
  },
  {
   "cell_type": "code",
   "execution_count": 3,
   "id": "064da16a",
   "metadata": {},
   "outputs": [],
   "source": [
    "# pages we need data from\n",
    "url_start = \"https://www.amazon.com/gp/bestsellers/{}/books/ref=zg_bsar_cal_ye\""
   ]
  },
  {
   "cell_type": "markdown",
   "id": "22931008",
   "metadata": {},
   "source": [
    "### Start webdriver"
   ]
  },
  {
   "cell_type": "code",
   "execution_count": 11,
   "id": "9d550590",
   "metadata": {},
   "outputs": [],
   "source": [
    "driver = webdriver.Chrome()"
   ]
  },
  {
   "cell_type": "markdown",
   "id": "29b29725",
   "metadata": {},
   "source": [
    "### Extracting and returning data from 2009 to 2019 "
   ]
  },
  {
   "cell_type": "code",
   "execution_count": 25,
   "id": "34ddf5bf",
   "metadata": {},
   "outputs": [],
   "source": [
    "#getting data for each year\n",
    "for year in years:\n",
    "    url = url_start.format(year)\n",
    "    \n",
    "    driver.get(url)\n",
    "    soup = BeautifulSoup(driver.page_source, \"html.parser\")\n",
    "    results = soup.find_all('div', {'data-a-card-type': 'basic'})\n",
    "    \n",
    "    def combine_all(item):\n",
    "        try:\n",
    "            #description \n",
    "            atag =item.span\n",
    "            description = atag.text.strip()\n",
    "            title = item.find('div', {'class' : '_cDEzb_p13n-sc-css-line-clamp-1_1Fn1y'}).text\n",
    "            author = item.find('div', 'a-row a-size-small').text\n",
    "        except AttributeError:\n",
    "            atag = ''\n",
    "            description = ''\n",
    "            title = ''\n",
    "            author = ''\n",
    "\n",
    "        try:\n",
    "            #price\n",
    "            price_parent = item.find('span', 'a-size-base a-color-price')\n",
    "            price = price_parent.find('span', '_cDEzb_p13n-sc-price_3mJ9Z').text.replace('$','').strip()\n",
    "        except AttributeError:\n",
    "            price = '0'\n",
    "        \n",
    "        try:\n",
    "            #rank and rating\n",
    "            rating= item.i.text\n",
    "            review_count = item.find('span', {'class': 'a-size-small'}).text\n",
    "        except AttributeError:\n",
    "            rating = ''\n",
    "            review_count = ''\n",
    "\n",
    "        #cover\n",
    "        cover = item.find('span', 'a-size-small a-color-secondary a-text-normal').text\n",
    "\n",
    "        result = (description, title , author, price, rating, review_count, cover)\n",
    "        return result\n",
    "\n",
    "    records = []\n",
    "    results = soup.find_all('div', {'data-a-card-type': 'basic'})\n",
    "\n",
    "    for item in results:\n",
    "        records.append(combine_all(item))\n",
    "        #save data to csv file\n",
    "        with open('results{}.csv'.format(year), 'w', newline='', encoding='utf-8') as f:\n",
    "            writer = csv.writer(f)\n",
    "            writer.writerow(['Description', 'Title', 'Author', 'Price', 'Rating', 'ReviewCount', 'Cover'])\n",
    "            writer.writerows(records) "
   ]
  },
  {
   "cell_type": "markdown",
   "id": "2a001cbd",
   "metadata": {},
   "source": [
    "### Exploratory Data Analysis - EDA"
   ]
  },
  {
   "cell_type": "markdown",
   "id": "d8080e99",
   "metadata": {},
   "source": [
    "The data for each year has been extracted and placed into their respective year csv file. We will merge all the data into one whole dataframe."
   ]
  },
  {
   "cell_type": "code",
   "execution_count": 68,
   "id": "3fb2ff03",
   "metadata": {},
   "outputs": [],
   "source": [
    "#all years \n",
    "all_year_data = pd.DataFrame()\n",
    "\n",
    "for year in years:\n",
    "    data = pd.read_csv(r'C:\\Users\\Rhoda\\amazonData\\results{}.csv'.format(year))\n",
    "    #add year column\n",
    "    data['Year'] = year\n",
    "    #drop first row of each year\n",
    "    data.drop(index = 0, axis = 0, inplace = True)\n",
    "    #combined data\n",
    "    all_year_data = pd.concat([all_year_data, data])"
   ]
  },
  {
   "cell_type": "code",
   "execution_count": 69,
   "id": "353fab51",
   "metadata": {},
   "outputs": [
    {
     "data": {
      "text/html": [
       "<div>\n",
       "<style scoped>\n",
       "    .dataframe tbody tr th:only-of-type {\n",
       "        vertical-align: middle;\n",
       "    }\n",
       "\n",
       "    .dataframe tbody tr th {\n",
       "        vertical-align: top;\n",
       "    }\n",
       "\n",
       "    .dataframe thead th {\n",
       "        text-align: right;\n",
       "    }\n",
       "</style>\n",
       "<table border=\"1\" class=\"dataframe\">\n",
       "  <thead>\n",
       "    <tr style=\"text-align: right;\">\n",
       "      <th></th>\n",
       "      <th>Description</th>\n",
       "      <th>Title</th>\n",
       "      <th>Author</th>\n",
       "      <th>Price</th>\n",
       "      <th>Rating</th>\n",
       "      <th>ReviewCount</th>\n",
       "      <th>Cover</th>\n",
       "      <th>Year</th>\n",
       "    </tr>\n",
       "  </thead>\n",
       "  <tbody>\n",
       "    <tr>\n",
       "      <th>1</th>\n",
       "      <td>#1</td>\n",
       "      <td>The Lost Symbol</td>\n",
       "      <td>Dan Brown</td>\n",
       "      <td>14.20</td>\n",
       "      <td>4.4 out of 5 stars</td>\n",
       "      <td>17,092</td>\n",
       "      <td>Hardcover</td>\n",
       "      <td>2009</td>\n",
       "    </tr>\n",
       "    <tr>\n",
       "      <th>2</th>\n",
       "      <td>#2</td>\n",
       "      <td>The Shack: Where Tragedy Confronts Eternity</td>\n",
       "      <td>William P. Young</td>\n",
       "      <td>10.43</td>\n",
       "      <td>4.7 out of 5 stars</td>\n",
       "      <td>23,900</td>\n",
       "      <td>Paperback</td>\n",
       "      <td>2009</td>\n",
       "    </tr>\n",
       "    <tr>\n",
       "      <th>3</th>\n",
       "      <td>#3</td>\n",
       "      <td>Liberty and Tyranny: A Conservative Manifesto</td>\n",
       "      <td>Mark R. Levin</td>\n",
       "      <td>13.55</td>\n",
       "      <td>4.8 out of 5 stars</td>\n",
       "      <td>5,063</td>\n",
       "      <td>Hardcover</td>\n",
       "      <td>2009</td>\n",
       "    </tr>\n",
       "    <tr>\n",
       "      <th>4</th>\n",
       "      <td>#4</td>\n",
       "      <td>Breaking Dawn (The Twilight Saga, Book 4)</td>\n",
       "      <td>Stephenie Meyer</td>\n",
       "      <td>19.77</td>\n",
       "      <td>4.7 out of 5 stars</td>\n",
       "      <td>17,738</td>\n",
       "      <td>Hardcover</td>\n",
       "      <td>2009</td>\n",
       "    </tr>\n",
       "    <tr>\n",
       "      <th>5</th>\n",
       "      <td>#5</td>\n",
       "      <td>Going Rogue: An American Life</td>\n",
       "      <td>Sarah Palin</td>\n",
       "      <td>9.54</td>\n",
       "      <td>4.6 out of 5 stars</td>\n",
       "      <td>1,572</td>\n",
       "      <td>Hardcover</td>\n",
       "      <td>2009</td>\n",
       "    </tr>\n",
       "  </tbody>\n",
       "</table>\n",
       "</div>"
      ],
      "text/plain": [
       "  Description                                          Title  \\\n",
       "1          #1                                The Lost Symbol   \n",
       "2          #2    The Shack: Where Tragedy Confronts Eternity   \n",
       "3          #3  Liberty and Tyranny: A Conservative Manifesto   \n",
       "4          #4      Breaking Dawn (The Twilight Saga, Book 4)   \n",
       "5          #5                  Going Rogue: An American Life   \n",
       "\n",
       "             Author  Price              Rating ReviewCount      Cover  Year  \n",
       "1         Dan Brown  14.20  4.4 out of 5 stars      17,092  Hardcover  2009  \n",
       "2  William P. Young  10.43  4.7 out of 5 stars      23,900  Paperback  2009  \n",
       "3     Mark R. Levin  13.55  4.8 out of 5 stars       5,063  Hardcover  2009  \n",
       "4   Stephenie Meyer  19.77  4.7 out of 5 stars      17,738  Hardcover  2009  \n",
       "5       Sarah Palin   9.54  4.6 out of 5 stars       1,572  Hardcover  2009  "
      ]
     },
     "execution_count": 69,
     "metadata": {},
     "output_type": "execute_result"
    }
   ],
   "source": [
    "#first 5 data\n",
    "all_year_data.head()"
   ]
  },
  {
   "cell_type": "code",
   "execution_count": 70,
   "id": "6ccd209e",
   "metadata": {},
   "outputs": [
    {
     "data": {
      "text/html": [
       "<div>\n",
       "<style scoped>\n",
       "    .dataframe tbody tr th:only-of-type {\n",
       "        vertical-align: middle;\n",
       "    }\n",
       "\n",
       "    .dataframe tbody tr th {\n",
       "        vertical-align: top;\n",
       "    }\n",
       "\n",
       "    .dataframe thead th {\n",
       "        text-align: right;\n",
       "    }\n",
       "</style>\n",
       "<table border=\"1\" class=\"dataframe\">\n",
       "  <thead>\n",
       "    <tr style=\"text-align: right;\">\n",
       "      <th></th>\n",
       "      <th>Description</th>\n",
       "      <th>Title</th>\n",
       "      <th>Author</th>\n",
       "      <th>Price</th>\n",
       "      <th>Rating</th>\n",
       "      <th>ReviewCount</th>\n",
       "      <th>Cover</th>\n",
       "      <th>Year</th>\n",
       "    </tr>\n",
       "  </thead>\n",
       "  <tbody>\n",
       "    <tr>\n",
       "      <th>26</th>\n",
       "      <td>#26</td>\n",
       "      <td>Howard Stern Comes Again</td>\n",
       "      <td>Howard Stern</td>\n",
       "      <td>17.50</td>\n",
       "      <td>4.5 out of 5 stars</td>\n",
       "      <td>8,026</td>\n",
       "      <td>Hardcover</td>\n",
       "      <td>2019</td>\n",
       "    </tr>\n",
       "    <tr>\n",
       "      <th>27</th>\n",
       "      <td>#27</td>\n",
       "      <td>Guts: A Graphic Novel</td>\n",
       "      <td>Raina Telgemeier</td>\n",
       "      <td>6.24</td>\n",
       "      <td>4.8 out of 5 stars</td>\n",
       "      <td>12,487</td>\n",
       "      <td>Paperback</td>\n",
       "      <td>2019</td>\n",
       "    </tr>\n",
       "    <tr>\n",
       "      <th>28</th>\n",
       "      <td>#28</td>\n",
       "      <td>The Life-Changing Magic of Tidying Up: The Jap...</td>\n",
       "      <td>Marie Kondō</td>\n",
       "      <td>8.87</td>\n",
       "      <td>4.5 out of 5 stars</td>\n",
       "      <td>Marie Kondō</td>\n",
       "      <td>Hardcover</td>\n",
       "      <td>2019</td>\n",
       "    </tr>\n",
       "    <tr>\n",
       "      <th>29</th>\n",
       "      <td>#29</td>\n",
       "      <td>Harry Potter and the Goblet of Fire: The Illus...</td>\n",
       "      <td>J. K. Rowling</td>\n",
       "      <td>29.98</td>\n",
       "      <td>4.9 out of 5 stars</td>\n",
       "      <td>25,676</td>\n",
       "      <td>Hardcover</td>\n",
       "      <td>2019</td>\n",
       "    </tr>\n",
       "    <tr>\n",
       "      <th>30</th>\n",
       "      <td>#30</td>\n",
       "      <td>National Geographic Little Kids First Big Book...</td>\n",
       "      <td>Amy Shields</td>\n",
       "      <td>13.33</td>\n",
       "      <td>4.8 out of 5 stars</td>\n",
       "      <td>18,372</td>\n",
       "      <td>Hardcover</td>\n",
       "      <td>2019</td>\n",
       "    </tr>\n",
       "  </tbody>\n",
       "</table>\n",
       "</div>"
      ],
      "text/plain": [
       "   Description                                              Title  \\\n",
       "26         #26                           Howard Stern Comes Again   \n",
       "27         #27                              Guts: A Graphic Novel   \n",
       "28         #28  The Life-Changing Magic of Tidying Up: The Jap...   \n",
       "29         #29  Harry Potter and the Goblet of Fire: The Illus...   \n",
       "30         #30  National Geographic Little Kids First Big Book...   \n",
       "\n",
       "              Author  Price              Rating  ReviewCount      Cover  Year  \n",
       "26      Howard Stern  17.50  4.5 out of 5 stars        8,026  Hardcover  2019  \n",
       "27  Raina Telgemeier   6.24  4.8 out of 5 stars       12,487  Paperback  2019  \n",
       "28       Marie Kondō   8.87  4.5 out of 5 stars  Marie Kondō  Hardcover  2019  \n",
       "29     J. K. Rowling  29.98  4.9 out of 5 stars       25,676  Hardcover  2019  \n",
       "30       Amy Shields  13.33  4.8 out of 5 stars       18,372  Hardcover  2019  "
      ]
     },
     "execution_count": 70,
     "metadata": {},
     "output_type": "execute_result"
    }
   ],
   "source": [
    "#last 5 data\n",
    "all_year_data.tail()"
   ]
  },
  {
   "cell_type": "code",
   "execution_count": 78,
   "id": "bae3f991",
   "metadata": {},
   "outputs": [
    {
     "data": {
      "text/plain": [
       "(330, 7)"
      ]
     },
     "execution_count": 78,
     "metadata": {},
     "output_type": "execute_result"
    }
   ],
   "source": [
    "#shape of data\n",
    "all_year_data.shape"
   ]
  },
  {
   "cell_type": "code",
   "execution_count": 72,
   "id": "72f15adc",
   "metadata": {},
   "outputs": [
    {
     "data": {
      "text/plain": [
       "2640"
      ]
     },
     "execution_count": 72,
     "metadata": {},
     "output_type": "execute_result"
    }
   ],
   "source": [
    "#size of data\n",
    "all_year_data.size"
   ]
  },
  {
   "cell_type": "code",
   "execution_count": 75,
   "id": "a774aa33",
   "metadata": {},
   "outputs": [
    {
     "data": {
      "text/plain": [
       "Index(['Description', 'Title', 'Author', 'Price', 'Rating', 'ReviewCount',\n",
       "       'Cover', 'Year'],\n",
       "      dtype='object')"
      ]
     },
     "execution_count": 75,
     "metadata": {},
     "output_type": "execute_result"
    }
   ],
   "source": [
    "all_year_data.columns"
   ]
  },
  {
   "cell_type": "code",
   "execution_count": 76,
   "id": "f3bdf0c0",
   "metadata": {},
   "outputs": [],
   "source": [
    "#drop description column since it's just indexing\n",
    "all_year_data.drop(labels = 'Description' , axis = 1, inplace = True)"
   ]
  },
  {
   "cell_type": "code",
   "execution_count": 82,
   "id": "cb51bdb3",
   "metadata": {},
   "outputs": [],
   "source": [
    "#reset index\n",
    "all_year_data.reset_index(inplace = True)"
   ]
  },
  {
   "cell_type": "code",
   "execution_count": 84,
   "id": "e60468eb",
   "metadata": {},
   "outputs": [],
   "source": [
    "#drop level0 column\n",
    "all_year_data.drop(labels = 'level_0', axis = 1,inplace = True)"
   ]
  },
  {
   "cell_type": "code",
   "execution_count": 99,
   "id": "e60da357",
   "metadata": {},
   "outputs": [
    {
     "data": {
      "text/plain": [
       "Title          1\n",
       "Author         1\n",
       "Price($)       0\n",
       "Rating         0\n",
       "ReviewCount    0\n",
       "Cover          0\n",
       "Year           0\n",
       "dtype: int64"
      ]
     },
     "execution_count": 99,
     "metadata": {},
     "output_type": "execute_result"
    }
   ],
   "source": [
    "#finding null values\n",
    "all_year_data.isnull().sum()"
   ]
  },
  {
   "cell_type": "code",
   "execution_count": 106,
   "id": "6f93c567",
   "metadata": {},
   "outputs": [
    {
     "data": {
      "text/html": [
       "<div>\n",
       "<style scoped>\n",
       "    .dataframe tbody tr th:only-of-type {\n",
       "        vertical-align: middle;\n",
       "    }\n",
       "\n",
       "    .dataframe tbody tr th {\n",
       "        vertical-align: top;\n",
       "    }\n",
       "\n",
       "    .dataframe thead th {\n",
       "        text-align: right;\n",
       "    }\n",
       "</style>\n",
       "<table border=\"1\" class=\"dataframe\">\n",
       "  <thead>\n",
       "    <tr style=\"text-align: right;\">\n",
       "      <th></th>\n",
       "      <th>Title</th>\n",
       "      <th>Author</th>\n",
       "      <th>Price($)</th>\n",
       "      <th>Rating</th>\n",
       "      <th>ReviewCount</th>\n",
       "      <th>Cover</th>\n",
       "      <th>Year</th>\n",
       "    </tr>\n",
       "  </thead>\n",
       "  <tbody>\n",
       "    <tr>\n",
       "      <th>231</th>\n",
       "      <td>NaN</td>\n",
       "      <td>NaN</td>\n",
       "      <td>8.99</td>\n",
       "      <td>4.5 out of 5 stars</td>\n",
       "      <td>3,132</td>\n",
       "      <td>Paperback</td>\n",
       "      <td>2016</td>\n",
       "    </tr>\n",
       "  </tbody>\n",
       "</table>\n",
       "</div>"
      ],
      "text/plain": [
       "    Title Author  Price($)              Rating ReviewCount      Cover  Year\n",
       "231   NaN    NaN      8.99  4.5 out of 5 stars       3,132  Paperback  2016"
      ]
     },
     "execution_count": 106,
     "metadata": {},
     "output_type": "execute_result"
    }
   ],
   "source": [
    "#accessing null values to see their nature\n",
    "all_year_data.loc[all_year_data.isnull().any(axis = 1)]"
   ]
  },
  {
   "cell_type": "code",
   "execution_count": 107,
   "id": "0f69124e",
   "metadata": {},
   "outputs": [
    {
     "data": {
      "text/plain": [
       "<AxesSubplot:>"
      ]
     },
     "execution_count": 107,
     "metadata": {},
     "output_type": "execute_result"
    },
    {
     "data": {
      "image/png": "[encoded data removed]",
      "text/plain": [
       "<Figure size 432x288 with 2 Axes>"
      ]
     },
     "metadata": {
      "needs_background": "light"
     },
     "output_type": "display_data"
    }
   ],
   "source": [
    "#using heatmap to show null values\n",
    "sns.heatmap(all_year_data.isnull())"
   ]
  },
  {
   "cell_type": "code",
   "execution_count": 108,
   "id": "aebb64e9",
   "metadata": {},
   "outputs": [],
   "source": [
    "#drop null value\n",
    "all_year_data = all_year_data.dropna()"
   ]
  },
  {
   "cell_type": "code",
   "execution_count": 90,
   "id": "e20abf5e",
   "metadata": {},
   "outputs": [],
   "source": [
    "#rename price column \n",
    "all_year_data = all_year_data.rename(columns = {'Price' : 'Price($)'})"
   ]
  },
  {
   "cell_type": "code",
   "execution_count": 109,
   "id": "d420b930",
   "metadata": {},
   "outputs": [
    {
     "data": {
      "text/html": [
       "<div>\n",
       "<style scoped>\n",
       "    .dataframe tbody tr th:only-of-type {\n",
       "        vertical-align: middle;\n",
       "    }\n",
       "\n",
       "    .dataframe tbody tr th {\n",
       "        vertical-align: top;\n",
       "    }\n",
       "\n",
       "    .dataframe thead th {\n",
       "        text-align: right;\n",
       "    }\n",
       "</style>\n",
       "<table border=\"1\" class=\"dataframe\">\n",
       "  <thead>\n",
       "    <tr style=\"text-align: right;\">\n",
       "      <th></th>\n",
       "      <th>Title</th>\n",
       "      <th>Author</th>\n",
       "      <th>Price($)</th>\n",
       "      <th>Rating</th>\n",
       "      <th>ReviewCount</th>\n",
       "      <th>Cover</th>\n",
       "      <th>Year</th>\n",
       "    </tr>\n",
       "  </thead>\n",
       "  <tbody>\n",
       "    <tr>\n",
       "      <th>0</th>\n",
       "      <td>The Shack: Where Tragedy Confronts Eternity</td>\n",
       "      <td>William P. Young</td>\n",
       "      <td>10.43</td>\n",
       "      <td>4.7 out of 5 stars</td>\n",
       "      <td>23,900</td>\n",
       "      <td>Paperback</td>\n",
       "      <td>2009</td>\n",
       "    </tr>\n",
       "    <tr>\n",
       "      <th>1</th>\n",
       "      <td>Liberty and Tyranny: A Conservative Manifesto</td>\n",
       "      <td>Mark R. Levin</td>\n",
       "      <td>13.55</td>\n",
       "      <td>4.8 out of 5 stars</td>\n",
       "      <td>5,063</td>\n",
       "      <td>Hardcover</td>\n",
       "      <td>2009</td>\n",
       "    </tr>\n",
       "    <tr>\n",
       "      <th>2</th>\n",
       "      <td>Breaking Dawn (The Twilight Saga, Book 4)</td>\n",
       "      <td>Stephenie Meyer</td>\n",
       "      <td>19.77</td>\n",
       "      <td>4.7 out of 5 stars</td>\n",
       "      <td>17,738</td>\n",
       "      <td>Hardcover</td>\n",
       "      <td>2009</td>\n",
       "    </tr>\n",
       "    <tr>\n",
       "      <th>3</th>\n",
       "      <td>Going Rogue: An American Life</td>\n",
       "      <td>Sarah Palin</td>\n",
       "      <td>9.54</td>\n",
       "      <td>4.6 out of 5 stars</td>\n",
       "      <td>1,572</td>\n",
       "      <td>Hardcover</td>\n",
       "      <td>2009</td>\n",
       "    </tr>\n",
       "    <tr>\n",
       "      <th>4</th>\n",
       "      <td>StrengthsFinder 2.0</td>\n",
       "      <td>Gallup</td>\n",
       "      <td>21.68</td>\n",
       "      <td>4.1 out of 5 stars</td>\n",
       "      <td>Gallup</td>\n",
       "      <td>Hardcover</td>\n",
       "      <td>2009</td>\n",
       "    </tr>\n",
       "    <tr>\n",
       "      <th>...</th>\n",
       "      <td>...</td>\n",
       "      <td>...</td>\n",
       "      <td>...</td>\n",
       "      <td>...</td>\n",
       "      <td>...</td>\n",
       "      <td>...</td>\n",
       "      <td>...</td>\n",
       "    </tr>\n",
       "    <tr>\n",
       "      <th>324</th>\n",
       "      <td>Howard Stern Comes Again</td>\n",
       "      <td>Howard Stern</td>\n",
       "      <td>17.50</td>\n",
       "      <td>4.5 out of 5 stars</td>\n",
       "      <td>8,026</td>\n",
       "      <td>Hardcover</td>\n",
       "      <td>2019</td>\n",
       "    </tr>\n",
       "    <tr>\n",
       "      <th>325</th>\n",
       "      <td>Guts: A Graphic Novel</td>\n",
       "      <td>Raina Telgemeier</td>\n",
       "      <td>6.24</td>\n",
       "      <td>4.8 out of 5 stars</td>\n",
       "      <td>12,487</td>\n",
       "      <td>Paperback</td>\n",
       "      <td>2019</td>\n",
       "    </tr>\n",
       "    <tr>\n",
       "      <th>326</th>\n",
       "      <td>The Life-Changing Magic of Tidying Up: The Jap...</td>\n",
       "      <td>Marie Kondō</td>\n",
       "      <td>8.87</td>\n",
       "      <td>4.5 out of 5 stars</td>\n",
       "      <td>Marie Kondō</td>\n",
       "      <td>Hardcover</td>\n",
       "      <td>2019</td>\n",
       "    </tr>\n",
       "    <tr>\n",
       "      <th>327</th>\n",
       "      <td>Harry Potter and the Goblet of Fire: The Illus...</td>\n",
       "      <td>J. K. Rowling</td>\n",
       "      <td>29.98</td>\n",
       "      <td>4.9 out of 5 stars</td>\n",
       "      <td>25,676</td>\n",
       "      <td>Hardcover</td>\n",
       "      <td>2019</td>\n",
       "    </tr>\n",
       "    <tr>\n",
       "      <th>328</th>\n",
       "      <td>National Geographic Little Kids First Big Book...</td>\n",
       "      <td>Amy Shields</td>\n",
       "      <td>13.33</td>\n",
       "      <td>4.8 out of 5 stars</td>\n",
       "      <td>18,372</td>\n",
       "      <td>Hardcover</td>\n",
       "      <td>2019</td>\n",
       "    </tr>\n",
       "  </tbody>\n",
       "</table>\n",
       "<p>328 rows × 7 columns</p>\n",
       "</div>"
      ],
      "text/plain": [
       "                                                 Title            Author  \\\n",
       "0          The Shack: Where Tragedy Confronts Eternity  William P. Young   \n",
       "1        Liberty and Tyranny: A Conservative Manifesto     Mark R. Levin   \n",
       "2            Breaking Dawn (The Twilight Saga, Book 4)   Stephenie Meyer   \n",
       "3                        Going Rogue: An American Life       Sarah Palin   \n",
       "4                                  StrengthsFinder 2.0            Gallup   \n",
       "..                                                 ...               ...   \n",
       "324                           Howard Stern Comes Again      Howard Stern   \n",
       "325                              Guts: A Graphic Novel  Raina Telgemeier   \n",
       "326  The Life-Changing Magic of Tidying Up: The Jap...       Marie Kondō   \n",
       "327  Harry Potter and the Goblet of Fire: The Illus...     J. K. Rowling   \n",
       "328  National Geographic Little Kids First Big Book...       Amy Shields   \n",
       "\n",
       "     Price($)              Rating  ReviewCount      Cover  Year  \n",
       "0       10.43  4.7 out of 5 stars       23,900  Paperback  2009  \n",
       "1       13.55  4.8 out of 5 stars        5,063  Hardcover  2009  \n",
       "2       19.77  4.7 out of 5 stars       17,738  Hardcover  2009  \n",
       "3        9.54  4.6 out of 5 stars        1,572  Hardcover  2009  \n",
       "4       21.68  4.1 out of 5 stars       Gallup  Hardcover  2009  \n",
       "..        ...                 ...          ...        ...   ...  \n",
       "324     17.50  4.5 out of 5 stars        8,026  Hardcover  2019  \n",
       "325      6.24  4.8 out of 5 stars       12,487  Paperback  2019  \n",
       "326      8.87  4.5 out of 5 stars  Marie Kondō  Hardcover  2019  \n",
       "327     29.98  4.9 out of 5 stars       25,676  Hardcover  2019  \n",
       "328     13.33  4.8 out of 5 stars       18,372  Hardcover  2019  \n",
       "\n",
       "[328 rows x 7 columns]"
      ]
     },
     "execution_count": 109,
     "metadata": {},
     "output_type": "execute_result"
    }
   ],
   "source": [
    "all_year_data"
   ]
  },
  {
   "cell_type": "markdown",
   "id": "d55f83ff",
   "metadata": {},
   "source": [
    "### Univariate Analysis"
   ]
  },
  {
   "cell_type": "markdown",
   "id": "53aad8a2",
   "metadata": {},
   "source": [
    "#### Author Analysis\n"
   ]
  },
  {
   "cell_type": "code",
   "execution_count": 114,
   "id": "6a75bccc",
   "metadata": {},
   "outputs": [
    {
     "data": {
      "text/html": [
       "<div>\n",
       "<style scoped>\n",
       "    .dataframe tbody tr th:only-of-type {\n",
       "        vertical-align: middle;\n",
       "    }\n",
       "\n",
       "    .dataframe tbody tr th {\n",
       "        vertical-align: top;\n",
       "    }\n",
       "\n",
       "    .dataframe thead th {\n",
       "        text-align: right;\n",
       "    }\n",
       "</style>\n",
       "<table border=\"1\" class=\"dataframe\">\n",
       "  <thead>\n",
       "    <tr style=\"text-align: right;\">\n",
       "      <th></th>\n",
       "      <th>Author</th>\n",
       "    </tr>\n",
       "  </thead>\n",
       "  <tbody>\n",
       "    <tr>\n",
       "      <th>Jeff Kinney</th>\n",
       "      <td>11</td>\n",
       "    </tr>\n",
       "    <tr>\n",
       "      <th>Suzanne Collins</th>\n",
       "      <td>10</td>\n",
       "    </tr>\n",
       "    <tr>\n",
       "      <th>Gary Chapman</th>\n",
       "      <td>9</td>\n",
       "    </tr>\n",
       "    <tr>\n",
       "      <th>Gallup</th>\n",
       "      <td>9</td>\n",
       "    </tr>\n",
       "    <tr>\n",
       "      <th>Stephenie Meyer</th>\n",
       "      <td>7</td>\n",
       "    </tr>\n",
       "    <tr>\n",
       "      <th>Rob Elliott</th>\n",
       "      <td>7</td>\n",
       "    </tr>\n",
       "    <tr>\n",
       "      <th>Dr. Seuss</th>\n",
       "      <td>7</td>\n",
       "    </tr>\n",
       "    <tr>\n",
       "      <th>The College Board</th>\n",
       "      <td>6</td>\n",
       "    </tr>\n",
       "    <tr>\n",
       "      <th>American Psychological Association</th>\n",
       "      <td>6</td>\n",
       "    </tr>\n",
       "    <tr>\n",
       "      <th>E L James</th>\n",
       "      <td>5</td>\n",
       "    </tr>\n",
       "  </tbody>\n",
       "</table>\n",
       "</div>"
      ],
      "text/plain": [
       "                                    Author\n",
       "Jeff Kinney                             11\n",
       "Suzanne Collins                         10\n",
       "Gary Chapman                             9\n",
       "Gallup                                   9\n",
       "Stephenie Meyer                          7\n",
       "Rob Elliott                              7\n",
       "Dr. Seuss                                7\n",
       "The College Board                        6\n",
       "American Psychological Association       6\n",
       "E L James                                5"
      ]
     },
     "execution_count": 114,
     "metadata": {},
     "output_type": "execute_result"
    }
   ],
   "source": [
    "author = all_year_data['Author'].value_counts().to_frame()\n",
    "author.head(10)"
   ]
  },
  {
   "cell_type": "markdown",
   "id": "97951b60",
   "metadata": {},
   "source": [
    "#### How many authors are in the dataset"
   ]
  },
  {
   "cell_type": "code",
   "execution_count": 120,
   "id": "a5baaf9d",
   "metadata": {},
   "outputs": [
    {
     "data": {
      "text/plain": [
       "157"
      ]
     },
     "execution_count": 120,
     "metadata": {},
     "output_type": "execute_result"
    }
   ],
   "source": [
    "all_year_data['Author'].nunique()"
   ]
  },
  {
   "cell_type": "code",
   "execution_count": 142,
   "id": "5a5b2155",
   "metadata": {},
   "outputs": [],
   "source": [
    "grouped_authors = all_year_data.groupby('Year')['Author'].value_counts().to_frame()"
   ]
  },
  {
   "cell_type": "code",
   "execution_count": 137,
   "id": "2ec92e13",
   "metadata": {},
   "outputs": [
    {
     "data": {
      "text/html": [
       "<div>\n",
       "<style scoped>\n",
       "    .dataframe tbody tr th:only-of-type {\n",
       "        vertical-align: middle;\n",
       "    }\n",
       "\n",
       "    .dataframe tbody tr th {\n",
       "        vertical-align: top;\n",
       "    }\n",
       "\n",
       "    .dataframe thead th {\n",
       "        text-align: right;\n",
       "    }\n",
       "</style>\n",
       "<table border=\"1\" class=\"dataframe\">\n",
       "  <thead>\n",
       "    <tr style=\"text-align: right;\">\n",
       "      <th></th>\n",
       "      <th></th>\n",
       "      <th>Author</th>\n",
       "    </tr>\n",
       "    <tr>\n",
       "      <th>Year</th>\n",
       "      <th>Author</th>\n",
       "      <th></th>\n",
       "    </tr>\n",
       "  </thead>\n",
       "  <tbody>\n",
       "    <tr>\n",
       "      <th rowspan=\"10\" valign=\"top\">2009</th>\n",
       "      <th>Stephenie Meyer</th>\n",
       "      <td>6</td>\n",
       "    </tr>\n",
       "    <tr>\n",
       "      <th>Glenn Beck</th>\n",
       "      <td>2</td>\n",
       "    </tr>\n",
       "    <tr>\n",
       "      <th>American Psychological Association</th>\n",
       "      <td>1</td>\n",
       "    </tr>\n",
       "    <tr>\n",
       "      <th>Audrey Niffenegger</th>\n",
       "      <td>1</td>\n",
       "    </tr>\n",
       "    <tr>\n",
       "      <th>Charlaine Harris</th>\n",
       "      <td>1</td>\n",
       "    </tr>\n",
       "    <tr>\n",
       "      <th>David Zinczenko</th>\n",
       "      <td>1</td>\n",
       "    </tr>\n",
       "    <tr>\n",
       "      <th>Edward M. Kennedy</th>\n",
       "      <td>1</td>\n",
       "    </tr>\n",
       "    <tr>\n",
       "      <th>Gallup</th>\n",
       "      <td>1</td>\n",
       "    </tr>\n",
       "    <tr>\n",
       "      <th>Greg Mortenson</th>\n",
       "      <td>1</td>\n",
       "    </tr>\n",
       "    <tr>\n",
       "      <th>Jeff Kinney</th>\n",
       "      <td>1</td>\n",
       "    </tr>\n",
       "  </tbody>\n",
       "</table>\n",
       "</div>"
      ],
      "text/plain": [
       "                                         Author\n",
       "Year Author                                    \n",
       "2009 Stephenie Meyer                          6\n",
       "     Glenn Beck                               2\n",
       "     American Psychological Association       1\n",
       "     Audrey Niffenegger                       1\n",
       "     Charlaine Harris                         1\n",
       "     David Zinczenko                          1\n",
       "     Edward M. Kennedy                        1\n",
       "     Gallup                                   1\n",
       "     Greg Mortenson                           1\n",
       "     Jeff Kinney                              1"
      ]
     },
     "execution_count": 137,
     "metadata": {},
     "output_type": "execute_result"
    }
   ],
   "source": [
    "grouped_authors.head(10)"
   ]
  },
  {
   "cell_type": "code",
   "execution_count": 143,
   "id": "4aeb0cf6",
   "metadata": {},
   "outputs": [
    {
     "data": {
      "text/plain": [
       "Author                      Year\n",
       "Abraham Verghese            2010    11.99\n",
       "                            2011    11.99\n",
       "Adam Mansbach               2011    11.99\n",
       "Adir Levy                   2019    11.99\n",
       "Admiral William H. McRaven  2017    11.58\n",
       "                                    ...  \n",
       "Walter Isaacson             2011    17.01\n",
       "                            2012    17.01\n",
       "William Davis               2012    11.10\n",
       "William P. Young            2009    10.43\n",
       "                            2017    10.43\n",
       "Name: Price($), Length: 293, dtype: float64"
      ]
     },
     "execution_count": 143,
     "metadata": {},
     "output_type": "execute_result"
    }
   ],
   "source": [
    "all_year_data.groupby(['Author','Year']).sum()['Price($)']"
   ]
  },
  {
   "cell_type": "code",
   "execution_count": null,
   "id": "bc4119ee",
   "metadata": {},
   "outputs": [],
   "source": []
  }
 ],
 "metadata": {
  "kernelspec": {
   "display_name": "Python 3",
   "language": "python",
   "name": "python3"
  },
  "language_info": {
   "codemirror_mode": {
    "name": "ipython",
    "version": 3
   },
   "file_extension": ".py",
   "mimetype": "text/x-python",
   "name": "python",
   "nbconvert_exporter": "python",
   "pygments_lexer": "ipython3",
   "version": "3.8.8"
  }
 },
 "nbformat": 4,
 "nbformat_minor": 5
}
